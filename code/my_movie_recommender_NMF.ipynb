{
 "cells": [
  {
   "cell_type": "markdown",
   "id": "86157694",
   "metadata": {},
   "source": [
    "# Import relevant modules and functions"
   ]
  },
  {
   "cell_type": "code",
   "execution_count": 1,
   "id": "41126fc7",
   "metadata": {},
   "outputs": [],
   "source": [
    "# Basics\n",
    "import pandas as pd\n",
    "import numpy as np\n",
    "import matplotlib.pyplot as plt\n",
    "from IPython import display\n",
    "\n",
    "# Surprise (NMF recommender)\n",
    "from surprise import NMF, Dataset, Reader, SVD\n",
    "from surprise.model_selection import GridSearchCV\n",
    "\n",
    "# Sklearn (PCA and clustering)\n",
    "from sklearn.decomposition import PCA\n",
    "from sklearn.cluster import KMeans\n",
    "from sklearn.preprocessing import MinMaxScaler, StandardScaler\n",
    "from sklearn.metrics import silhouette_score"
   ]
  },
  {
   "cell_type": "markdown",
   "id": "60e9091f",
   "metadata": {},
   "source": [
    "# Load and prepare the data"
   ]
  },
  {
   "cell_type": "code",
   "execution_count": 2,
   "id": "04fa0fa9",
   "metadata": {},
   "outputs": [
    {
     "data": {
      "text/html": [
       "<div>\n",
       "<style scoped>\n",
       "    .dataframe tbody tr th:only-of-type {\n",
       "        vertical-align: middle;\n",
       "    }\n",
       "\n",
       "    .dataframe tbody tr th {\n",
       "        vertical-align: top;\n",
       "    }\n",
       "\n",
       "    .dataframe thead th {\n",
       "        text-align: right;\n",
       "    }\n",
       "</style>\n",
       "<table border=\"1\" class=\"dataframe\">\n",
       "  <thead>\n",
       "    <tr style=\"text-align: right;\">\n",
       "      <th></th>\n",
       "      <th>movieId</th>\n",
       "      <th>title</th>\n",
       "      <th>genres</th>\n",
       "    </tr>\n",
       "  </thead>\n",
       "  <tbody>\n",
       "    <tr>\n",
       "      <th>0</th>\n",
       "      <td>1</td>\n",
       "      <td>Toy Story (1995)</td>\n",
       "      <td>Adventure|Animation|Children|Comedy|Fantasy</td>\n",
       "    </tr>\n",
       "    <tr>\n",
       "      <th>1</th>\n",
       "      <td>2</td>\n",
       "      <td>Jumanji (1995)</td>\n",
       "      <td>Adventure|Children|Fantasy</td>\n",
       "    </tr>\n",
       "    <tr>\n",
       "      <th>2</th>\n",
       "      <td>3</td>\n",
       "      <td>Grumpier Old Men (1995)</td>\n",
       "      <td>Comedy|Romance</td>\n",
       "    </tr>\n",
       "    <tr>\n",
       "      <th>3</th>\n",
       "      <td>4</td>\n",
       "      <td>Waiting to Exhale (1995)</td>\n",
       "      <td>Comedy|Drama|Romance</td>\n",
       "    </tr>\n",
       "    <tr>\n",
       "      <th>4</th>\n",
       "      <td>5</td>\n",
       "      <td>Father of the Bride Part II (1995)</td>\n",
       "      <td>Comedy</td>\n",
       "    </tr>\n",
       "  </tbody>\n",
       "</table>\n",
       "</div>"
      ],
      "text/plain": [
       "   movieId                               title  \\\n",
       "0        1                    Toy Story (1995)   \n",
       "1        2                      Jumanji (1995)   \n",
       "2        3             Grumpier Old Men (1995)   \n",
       "3        4            Waiting to Exhale (1995)   \n",
       "4        5  Father of the Bride Part II (1995)   \n",
       "\n",
       "                                        genres  \n",
       "0  Adventure|Animation|Children|Comedy|Fantasy  \n",
       "1                   Adventure|Children|Fantasy  \n",
       "2                               Comedy|Romance  \n",
       "3                         Comedy|Drama|Romance  \n",
       "4                                       Comedy  "
      ]
     },
     "execution_count": 2,
     "metadata": {},
     "output_type": "execute_result"
    }
   ],
   "source": [
    "# Data downloaded from https://grouplens.org/datasets/movielens/\n",
    "df_movies = pd.read_csv('../data/ml-latest-small/movies.csv')\n",
    "df_movies.head()"
   ]
  },
  {
   "cell_type": "code",
   "execution_count": 3,
   "id": "06ba2829",
   "metadata": {},
   "outputs": [
    {
     "data": {
      "text/html": [
       "<div>\n",
       "<style scoped>\n",
       "    .dataframe tbody tr th:only-of-type {\n",
       "        vertical-align: middle;\n",
       "    }\n",
       "\n",
       "    .dataframe tbody tr th {\n",
       "        vertical-align: top;\n",
       "    }\n",
       "\n",
       "    .dataframe thead th {\n",
       "        text-align: right;\n",
       "    }\n",
       "</style>\n",
       "<table border=\"1\" class=\"dataframe\">\n",
       "  <thead>\n",
       "    <tr style=\"text-align: right;\">\n",
       "      <th></th>\n",
       "      <th>userId</th>\n",
       "      <th>movieId</th>\n",
       "      <th>rating</th>\n",
       "      <th>timestamp</th>\n",
       "    </tr>\n",
       "  </thead>\n",
       "  <tbody>\n",
       "    <tr>\n",
       "      <th>0</th>\n",
       "      <td>1</td>\n",
       "      <td>1</td>\n",
       "      <td>4.0</td>\n",
       "      <td>964982703</td>\n",
       "    </tr>\n",
       "    <tr>\n",
       "      <th>1</th>\n",
       "      <td>1</td>\n",
       "      <td>3</td>\n",
       "      <td>4.0</td>\n",
       "      <td>964981247</td>\n",
       "    </tr>\n",
       "    <tr>\n",
       "      <th>2</th>\n",
       "      <td>1</td>\n",
       "      <td>6</td>\n",
       "      <td>4.0</td>\n",
       "      <td>964982224</td>\n",
       "    </tr>\n",
       "    <tr>\n",
       "      <th>3</th>\n",
       "      <td>1</td>\n",
       "      <td>47</td>\n",
       "      <td>5.0</td>\n",
       "      <td>964983815</td>\n",
       "    </tr>\n",
       "    <tr>\n",
       "      <th>4</th>\n",
       "      <td>1</td>\n",
       "      <td>50</td>\n",
       "      <td>5.0</td>\n",
       "      <td>964982931</td>\n",
       "    </tr>\n",
       "  </tbody>\n",
       "</table>\n",
       "</div>"
      ],
      "text/plain": [
       "   userId  movieId  rating  timestamp\n",
       "0       1        1     4.0  964982703\n",
       "1       1        3     4.0  964981247\n",
       "2       1        6     4.0  964982224\n",
       "3       1       47     5.0  964983815\n",
       "4       1       50     5.0  964982931"
      ]
     },
     "execution_count": 3,
     "metadata": {},
     "output_type": "execute_result"
    }
   ],
   "source": [
    "df_ratings = pd.read_csv('../data/ml-latest-small/ratings.csv')\n",
    "df_ratings.head()"
   ]
  },
  {
   "cell_type": "code",
   "execution_count": 4,
   "id": "8aca813c",
   "metadata": {},
   "outputs": [
    {
     "data": {
      "text/plain": [
       "((9742, 3), (100836, 4))"
      ]
     },
     "execution_count": 4,
     "metadata": {},
     "output_type": "execute_result"
    }
   ],
   "source": [
    "df_movies.shape, df_ratings.shape"
   ]
  },
  {
   "cell_type": "code",
   "execution_count": 5,
   "id": "5864ac50",
   "metadata": {},
   "outputs": [
    {
     "data": {
      "text/html": [
       "<div>\n",
       "<style scoped>\n",
       "    .dataframe tbody tr th:only-of-type {\n",
       "        vertical-align: middle;\n",
       "    }\n",
       "\n",
       "    .dataframe tbody tr th {\n",
       "        vertical-align: top;\n",
       "    }\n",
       "\n",
       "    .dataframe thead th {\n",
       "        text-align: right;\n",
       "    }\n",
       "</style>\n",
       "<table border=\"1\" class=\"dataframe\">\n",
       "  <thead>\n",
       "    <tr style=\"text-align: right;\">\n",
       "      <th></th>\n",
       "      <th>userId</th>\n",
       "      <th>movieId</th>\n",
       "      <th>rating</th>\n",
       "      <th>timestamp</th>\n",
       "      <th>title</th>\n",
       "      <th>genres</th>\n",
       "    </tr>\n",
       "  </thead>\n",
       "  <tbody>\n",
       "    <tr>\n",
       "      <th>0</th>\n",
       "      <td>1</td>\n",
       "      <td>1</td>\n",
       "      <td>4.0</td>\n",
       "      <td>964982703</td>\n",
       "      <td>Toy Story (1995)</td>\n",
       "      <td>Adventure|Animation|Children|Comedy|Fantasy</td>\n",
       "    </tr>\n",
       "    <tr>\n",
       "      <th>1</th>\n",
       "      <td>1</td>\n",
       "      <td>3</td>\n",
       "      <td>4.0</td>\n",
       "      <td>964981247</td>\n",
       "      <td>Grumpier Old Men (1995)</td>\n",
       "      <td>Comedy|Romance</td>\n",
       "    </tr>\n",
       "    <tr>\n",
       "      <th>2</th>\n",
       "      <td>1</td>\n",
       "      <td>6</td>\n",
       "      <td>4.0</td>\n",
       "      <td>964982224</td>\n",
       "      <td>Heat (1995)</td>\n",
       "      <td>Action|Crime|Thriller</td>\n",
       "    </tr>\n",
       "    <tr>\n",
       "      <th>3</th>\n",
       "      <td>1</td>\n",
       "      <td>47</td>\n",
       "      <td>5.0</td>\n",
       "      <td>964983815</td>\n",
       "      <td>Seven (a.k.a. Se7en) (1995)</td>\n",
       "      <td>Mystery|Thriller</td>\n",
       "    </tr>\n",
       "    <tr>\n",
       "      <th>4</th>\n",
       "      <td>1</td>\n",
       "      <td>50</td>\n",
       "      <td>5.0</td>\n",
       "      <td>964982931</td>\n",
       "      <td>Usual Suspects, The (1995)</td>\n",
       "      <td>Crime|Mystery|Thriller</td>\n",
       "    </tr>\n",
       "  </tbody>\n",
       "</table>\n",
       "</div>"
      ],
      "text/plain": [
       "   userId  movieId  rating  timestamp                        title  \\\n",
       "0       1        1     4.0  964982703             Toy Story (1995)   \n",
       "1       1        3     4.0  964981247      Grumpier Old Men (1995)   \n",
       "2       1        6     4.0  964982224                  Heat (1995)   \n",
       "3       1       47     5.0  964983815  Seven (a.k.a. Se7en) (1995)   \n",
       "4       1       50     5.0  964982931   Usual Suspects, The (1995)   \n",
       "\n",
       "                                        genres  \n",
       "0  Adventure|Animation|Children|Comedy|Fantasy  \n",
       "1                               Comedy|Romance  \n",
       "2                        Action|Crime|Thriller  \n",
       "3                             Mystery|Thriller  \n",
       "4                       Crime|Mystery|Thriller  "
      ]
     },
     "execution_count": 5,
     "metadata": {},
     "output_type": "execute_result"
    }
   ],
   "source": [
    "# Merge both dataframes to get one single dataframe\n",
    "df_full = pd.merge(left=df_ratings, right=df_movies, how='left', on='movieId')\n",
    "df_full.head()"
   ]
  },
  {
   "cell_type": "code",
   "execution_count": 6,
   "id": "dd8143d2",
   "metadata": {},
   "outputs": [
    {
     "data": {
      "text/plain": [
       "0          True\n",
       "1          True\n",
       "2          True\n",
       "3          True\n",
       "4          True\n",
       "          ...  \n",
       "100831    False\n",
       "100832    False\n",
       "100833    False\n",
       "100834     True\n",
       "100835    False\n",
       "Name: userId_y, Length: 100836, dtype: bool"
      ]
     },
     "execution_count": 6,
     "metadata": {},
     "output_type": "execute_result"
    }
   ],
   "source": [
    "# Create mask for filtering by defining how many people 'must have watched' a movie (min)\n",
    "threshold = 20\n",
    "mask = pd.merge(df_full, pd.DataFrame(df_full.groupby('movieId')['userId'].count()>threshold), \n",
    "                how='left', on='movieId').iloc[:,-1]\n",
    "mask"
   ]
  },
  {
   "cell_type": "code",
   "execution_count": 7,
   "id": "d6a86abe",
   "metadata": {},
   "outputs": [
    {
     "data": {
      "text/html": [
       "<div>\n",
       "<style scoped>\n",
       "    .dataframe tbody tr th:only-of-type {\n",
       "        vertical-align: middle;\n",
       "    }\n",
       "\n",
       "    .dataframe tbody tr th {\n",
       "        vertical-align: top;\n",
       "    }\n",
       "\n",
       "    .dataframe thead th {\n",
       "        text-align: right;\n",
       "    }\n",
       "</style>\n",
       "<table border=\"1\" class=\"dataframe\">\n",
       "  <thead>\n",
       "    <tr style=\"text-align: right;\">\n",
       "      <th></th>\n",
       "      <th>userId</th>\n",
       "      <th>movieId</th>\n",
       "      <th>rating</th>\n",
       "      <th>timestamp</th>\n",
       "      <th>title</th>\n",
       "      <th>genres</th>\n",
       "    </tr>\n",
       "  </thead>\n",
       "  <tbody>\n",
       "    <tr>\n",
       "      <th>0</th>\n",
       "      <td>1</td>\n",
       "      <td>1</td>\n",
       "      <td>4.0</td>\n",
       "      <td>964982703</td>\n",
       "      <td>Toy Story (1995)</td>\n",
       "      <td>Adventure|Animation|Children|Comedy|Fantasy</td>\n",
       "    </tr>\n",
       "    <tr>\n",
       "      <th>1</th>\n",
       "      <td>1</td>\n",
       "      <td>3</td>\n",
       "      <td>4.0</td>\n",
       "      <td>964981247</td>\n",
       "      <td>Grumpier Old Men (1995)</td>\n",
       "      <td>Comedy|Romance</td>\n",
       "    </tr>\n",
       "    <tr>\n",
       "      <th>2</th>\n",
       "      <td>1</td>\n",
       "      <td>6</td>\n",
       "      <td>4.0</td>\n",
       "      <td>964982224</td>\n",
       "      <td>Heat (1995)</td>\n",
       "      <td>Action|Crime|Thriller</td>\n",
       "    </tr>\n",
       "    <tr>\n",
       "      <th>3</th>\n",
       "      <td>1</td>\n",
       "      <td>47</td>\n",
       "      <td>5.0</td>\n",
       "      <td>964983815</td>\n",
       "      <td>Seven (a.k.a. Se7en) (1995)</td>\n",
       "      <td>Mystery|Thriller</td>\n",
       "    </tr>\n",
       "    <tr>\n",
       "      <th>4</th>\n",
       "      <td>1</td>\n",
       "      <td>50</td>\n",
       "      <td>5.0</td>\n",
       "      <td>964982931</td>\n",
       "      <td>Usual Suspects, The (1995)</td>\n",
       "      <td>Crime|Mystery|Thriller</td>\n",
       "    </tr>\n",
       "  </tbody>\n",
       "</table>\n",
       "</div>"
      ],
      "text/plain": [
       "   userId  movieId  rating  timestamp                        title  \\\n",
       "0       1        1     4.0  964982703             Toy Story (1995)   \n",
       "1       1        3     4.0  964981247      Grumpier Old Men (1995)   \n",
       "2       1        6     4.0  964982224                  Heat (1995)   \n",
       "3       1       47     5.0  964983815  Seven (a.k.a. Se7en) (1995)   \n",
       "4       1       50     5.0  964982931   Usual Suspects, The (1995)   \n",
       "\n",
       "                                        genres  \n",
       "0  Adventure|Animation|Children|Comedy|Fantasy  \n",
       "1                               Comedy|Romance  \n",
       "2                        Action|Crime|Thriller  \n",
       "3                             Mystery|Thriller  \n",
       "4                       Crime|Mystery|Thriller  "
      ]
     },
     "execution_count": 7,
     "metadata": {},
     "output_type": "execute_result"
    }
   ],
   "source": [
    "# Create new dataframe by filtering out movies which have been watched by less than the defined number of people\n",
    "df = df_full[mask]\n",
    "df.head()"
   ]
  },
  {
   "cell_type": "code",
   "execution_count": 8,
   "id": "ed306b9e",
   "metadata": {},
   "outputs": [
    {
     "data": {
      "text/plain": [
       "(1235,)"
      ]
     },
     "execution_count": 8,
     "metadata": {},
     "output_type": "execute_result"
    }
   ],
   "source": [
    "df.title.unique().shape"
   ]
  },
  {
   "cell_type": "markdown",
   "id": "d7fadc4b",
   "metadata": {},
   "source": [
    "# Popular movie recommender"
   ]
  },
  {
   "cell_type": "code",
   "execution_count": 9,
   "id": "219d78e9",
   "metadata": {},
   "outputs": [
    {
     "data": {
      "text/html": [
       "<div>\n",
       "<style scoped>\n",
       "    .dataframe tbody tr th:only-of-type {\n",
       "        vertical-align: middle;\n",
       "    }\n",
       "\n",
       "    .dataframe tbody tr th {\n",
       "        vertical-align: top;\n",
       "    }\n",
       "\n",
       "    .dataframe thead th {\n",
       "        text-align: right;\n",
       "    }\n",
       "</style>\n",
       "<table border=\"1\" class=\"dataframe\">\n",
       "  <thead>\n",
       "    <tr style=\"text-align: right;\">\n",
       "      <th></th>\n",
       "      <th>title</th>\n",
       "      <th>rating</th>\n",
       "    </tr>\n",
       "  </thead>\n",
       "  <tbody>\n",
       "    <tr>\n",
       "      <th>0</th>\n",
       "      <td>Shawshank Redemption, The (1994)</td>\n",
       "      <td>4.429022</td>\n",
       "    </tr>\n",
       "    <tr>\n",
       "      <th>1</th>\n",
       "      <td>Sunset Blvd. (a.k.a. Sunset Boulevard) (1950)</td>\n",
       "      <td>4.333333</td>\n",
       "    </tr>\n",
       "    <tr>\n",
       "      <th>2</th>\n",
       "      <td>Philadelphia Story, The (1940)</td>\n",
       "      <td>4.310345</td>\n",
       "    </tr>\n",
       "    <tr>\n",
       "      <th>3</th>\n",
       "      <td>Lawrence of Arabia (1962)</td>\n",
       "      <td>4.300000</td>\n",
       "    </tr>\n",
       "    <tr>\n",
       "      <th>4</th>\n",
       "      <td>In the Name of the Father (1993)</td>\n",
       "      <td>4.300000</td>\n",
       "    </tr>\n",
       "  </tbody>\n",
       "</table>\n",
       "</div>"
      ],
      "text/plain": [
       "                                           title    rating\n",
       "0               Shawshank Redemption, The (1994)  4.429022\n",
       "1  Sunset Blvd. (a.k.a. Sunset Boulevard) (1950)  4.333333\n",
       "2                 Philadelphia Story, The (1940)  4.310345\n",
       "3                      Lawrence of Arabia (1962)  4.300000\n",
       "4               In the Name of the Father (1993)  4.300000"
      ]
     },
     "execution_count": 9,
     "metadata": {},
     "output_type": "execute_result"
    }
   ],
   "source": [
    "# Get most popular movies\n",
    "df_movie_ratings = pd.DataFrame(df.groupby('title')['rating'].mean().sort_values(ascending=False)).reset_index()\n",
    "df_movie_ratings.head()"
   ]
  },
  {
   "cell_type": "code",
   "execution_count": 10,
   "id": "675ca627",
   "metadata": {},
   "outputs": [
    {
     "data": {
      "text/html": [
       "<div>\n",
       "<style scoped>\n",
       "    .dataframe tbody tr th:only-of-type {\n",
       "        vertical-align: middle;\n",
       "    }\n",
       "\n",
       "    .dataframe tbody tr th {\n",
       "        vertical-align: top;\n",
       "    }\n",
       "\n",
       "    .dataframe thead th {\n",
       "        text-align: right;\n",
       "    }\n",
       "</style>\n",
       "<table border=\"1\" class=\"dataframe\">\n",
       "  <thead>\n",
       "    <tr style=\"text-align: right;\">\n",
       "      <th></th>\n",
       "      <th>title</th>\n",
       "      <th>rating</th>\n",
       "    </tr>\n",
       "  </thead>\n",
       "  <tbody>\n",
       "    <tr>\n",
       "      <th>1</th>\n",
       "      <td>Sunset Blvd. (a.k.a. Sunset Boulevard) (1950)</td>\n",
       "      <td>4.333333</td>\n",
       "    </tr>\n",
       "    <tr>\n",
       "      <th>2</th>\n",
       "      <td>Philadelphia Story, The (1940)</td>\n",
       "      <td>4.310345</td>\n",
       "    </tr>\n",
       "    <tr>\n",
       "      <th>3</th>\n",
       "      <td>Lawrence of Arabia (1962)</td>\n",
       "      <td>4.300000</td>\n",
       "    </tr>\n",
       "    <tr>\n",
       "      <th>4</th>\n",
       "      <td>In the Name of the Father (1993)</td>\n",
       "      <td>4.300000</td>\n",
       "    </tr>\n",
       "    <tr>\n",
       "      <th>5</th>\n",
       "      <td>Hoop Dreams (1994)</td>\n",
       "      <td>4.293103</td>\n",
       "    </tr>\n",
       "  </tbody>\n",
       "</table>\n",
       "</div>"
      ],
      "text/plain": [
       "                                           title    rating\n",
       "1  Sunset Blvd. (a.k.a. Sunset Boulevard) (1950)  4.333333\n",
       "2                 Philadelphia Story, The (1940)  4.310345\n",
       "3                      Lawrence of Arabia (1962)  4.300000\n",
       "4               In the Name of the Father (1993)  4.300000\n",
       "5                             Hoop Dreams (1994)  4.293103"
      ]
     },
     "execution_count": 10,
     "metadata": {},
     "output_type": "execute_result"
    }
   ],
   "source": [
    "# Determine 'most popular movies not seen yet' for user, e.g. here user with userId = 99\n",
    "watched_movies = list(df[df['userId']==99]['title'])\n",
    "mask = df_movie_ratings['title'].apply(lambda x: x not in watched_movies)\n",
    "df_movie_ratings[mask].head()"
   ]
  },
  {
   "cell_type": "markdown",
   "id": "978abc30",
   "metadata": {},
   "source": [
    "# NMF recommender"
   ]
  },
  {
   "cell_type": "markdown",
   "id": "8d053be0",
   "metadata": {},
   "source": [
    "## Prepare data"
   ]
  },
  {
   "cell_type": "code",
   "execution_count": 11,
   "id": "8ee1aca1",
   "metadata": {},
   "outputs": [
    {
     "data": {
      "text/html": [
       "<div>\n",
       "<style scoped>\n",
       "    .dataframe tbody tr th:only-of-type {\n",
       "        vertical-align: middle;\n",
       "    }\n",
       "\n",
       "    .dataframe tbody tr th {\n",
       "        vertical-align: top;\n",
       "    }\n",
       "\n",
       "    .dataframe thead th {\n",
       "        text-align: right;\n",
       "    }\n",
       "</style>\n",
       "<table border=\"1\" class=\"dataframe\">\n",
       "  <thead>\n",
       "    <tr style=\"text-align: right;\">\n",
       "      <th></th>\n",
       "      <th>userId</th>\n",
       "      <th>movieId</th>\n",
       "      <th>rating</th>\n",
       "    </tr>\n",
       "  </thead>\n",
       "  <tbody>\n",
       "    <tr>\n",
       "      <th>0</th>\n",
       "      <td>1</td>\n",
       "      <td>1</td>\n",
       "      <td>4.0</td>\n",
       "    </tr>\n",
       "    <tr>\n",
       "      <th>1</th>\n",
       "      <td>1</td>\n",
       "      <td>3</td>\n",
       "      <td>4.0</td>\n",
       "    </tr>\n",
       "    <tr>\n",
       "      <th>2</th>\n",
       "      <td>1</td>\n",
       "      <td>6</td>\n",
       "      <td>4.0</td>\n",
       "    </tr>\n",
       "    <tr>\n",
       "      <th>3</th>\n",
       "      <td>1</td>\n",
       "      <td>47</td>\n",
       "      <td>5.0</td>\n",
       "    </tr>\n",
       "    <tr>\n",
       "      <th>4</th>\n",
       "      <td>1</td>\n",
       "      <td>50</td>\n",
       "      <td>5.0</td>\n",
       "    </tr>\n",
       "    <tr>\n",
       "      <th>...</th>\n",
       "      <td>...</td>\n",
       "      <td>...</td>\n",
       "      <td>...</td>\n",
       "    </tr>\n",
       "    <tr>\n",
       "      <th>100803</th>\n",
       "      <td>610</td>\n",
       "      <td>148626</td>\n",
       "      <td>4.0</td>\n",
       "    </tr>\n",
       "    <tr>\n",
       "      <th>100808</th>\n",
       "      <td>610</td>\n",
       "      <td>152081</td>\n",
       "      <td>4.0</td>\n",
       "    </tr>\n",
       "    <tr>\n",
       "      <th>100829</th>\n",
       "      <td>610</td>\n",
       "      <td>164179</td>\n",
       "      <td>5.0</td>\n",
       "    </tr>\n",
       "    <tr>\n",
       "      <th>100830</th>\n",
       "      <td>610</td>\n",
       "      <td>166528</td>\n",
       "      <td>4.0</td>\n",
       "    </tr>\n",
       "    <tr>\n",
       "      <th>100834</th>\n",
       "      <td>610</td>\n",
       "      <td>168252</td>\n",
       "      <td>5.0</td>\n",
       "    </tr>\n",
       "  </tbody>\n",
       "</table>\n",
       "<p>66658 rows × 3 columns</p>\n",
       "</div>"
      ],
      "text/plain": [
       "        userId  movieId  rating\n",
       "0            1        1     4.0\n",
       "1            1        3     4.0\n",
       "2            1        6     4.0\n",
       "3            1       47     5.0\n",
       "4            1       50     5.0\n",
       "...        ...      ...     ...\n",
       "100803     610   148626     4.0\n",
       "100808     610   152081     4.0\n",
       "100829     610   164179     5.0\n",
       "100830     610   166528     4.0\n",
       "100834     610   168252     5.0\n",
       "\n",
       "[66658 rows x 3 columns]"
      ]
     },
     "execution_count": 11,
     "metadata": {},
     "output_type": "execute_result"
    }
   ],
   "source": [
    "# Prepare dataframe\n",
    "df_nmf = df[['userId', 'movieId', 'rating']]\n",
    "df_nmf"
   ]
  },
  {
   "cell_type": "code",
   "execution_count": 12,
   "id": "db779ef5",
   "metadata": {},
   "outputs": [
    {
     "data": {
      "text/plain": [
       "(0.5, 5.0)"
      ]
     },
     "execution_count": 12,
     "metadata": {},
     "output_type": "execute_result"
    }
   ],
   "source": [
    "df_nmf['rating'].min(), df_nmf['rating'].max()"
   ]
  },
  {
   "cell_type": "code",
   "execution_count": 13,
   "id": "f5246df4",
   "metadata": {},
   "outputs": [],
   "source": [
    "# Define the scale of the ratings, needed to set boundaries for the output\n",
    "reader = Reader(rating_scale=(0, 5))"
   ]
  },
  {
   "cell_type": "code",
   "execution_count": 14,
   "id": "1cb1b539",
   "metadata": {},
   "outputs": [],
   "source": [
    "# Load the data\n",
    "data = Dataset.load_from_df(df_nmf, reader)"
   ]
  },
  {
   "cell_type": "code",
   "execution_count": 15,
   "id": "a5c5d16f",
   "metadata": {},
   "outputs": [],
   "source": [
    "# Define the whole dataset as trainset\n",
    "trainset = data.build_full_trainset() "
   ]
  },
  {
   "cell_type": "markdown",
   "id": "60acb84a",
   "metadata": {},
   "source": [
    "## Find optimal number of hidden features"
   ]
  },
  {
   "cell_type": "code",
   "execution_count": 16,
   "id": "b62daf96",
   "metadata": {},
   "outputs": [],
   "source": [
    "param_grid = {\n",
    "    'n_factors' : [5, 15, 50],\n",
    "    'n_epochs' : [50, 100, 150, 200],    \n",
    "}"
   ]
  },
  {
   "cell_type": "code",
   "execution_count": 17,
   "id": "2673005d",
   "metadata": {},
   "outputs": [],
   "source": [
    "gs = GridSearchCV(NMF, param_grid, measures=['rmse', 'mae'], cv=5, n_jobs=-1, joblib_verbose=1)"
   ]
  },
  {
   "cell_type": "code",
   "execution_count": 18,
   "id": "5550dfa0",
   "metadata": {},
   "outputs": [
    {
     "name": "stderr",
     "output_type": "stream",
     "text": [
      "[Parallel(n_jobs=-1)]: Using backend LokyBackend with 8 concurrent workers.\n",
      "[Parallel(n_jobs=-1)]: Done  34 tasks      | elapsed:   22.9s\n",
      "[Parallel(n_jobs=-1)]: Done  60 out of  60 | elapsed:  1.1min finished\n"
     ]
    }
   ],
   "source": [
    "gs.fit(data)"
   ]
  },
  {
   "cell_type": "code",
   "execution_count": 19,
   "id": "09afcf37",
   "metadata": {},
   "outputs": [
    {
     "data": {
      "text/html": [
       "<div>\n",
       "<style scoped>\n",
       "    .dataframe tbody tr th:only-of-type {\n",
       "        vertical-align: middle;\n",
       "    }\n",
       "\n",
       "    .dataframe tbody tr th {\n",
       "        vertical-align: top;\n",
       "    }\n",
       "\n",
       "    .dataframe thead th {\n",
       "        text-align: right;\n",
       "    }\n",
       "</style>\n",
       "<table border=\"1\" class=\"dataframe\">\n",
       "  <thead>\n",
       "    <tr style=\"text-align: right;\">\n",
       "      <th></th>\n",
       "      <th>params</th>\n",
       "      <th>mean_test_rmse</th>\n",
       "      <th>rank_test_rmse</th>\n",
       "      <th>mean_fit_time</th>\n",
       "    </tr>\n",
       "  </thead>\n",
       "  <tbody>\n",
       "    <tr>\n",
       "      <th>11</th>\n",
       "      <td>{'n_factors': 50, 'n_epochs': 200}</td>\n",
       "      <td>0.838115</td>\n",
       "      <td>1</td>\n",
       "      <td>21.501723</td>\n",
       "    </tr>\n",
       "    <tr>\n",
       "      <th>10</th>\n",
       "      <td>{'n_factors': 50, 'n_epochs': 150}</td>\n",
       "      <td>0.838829</td>\n",
       "      <td>2</td>\n",
       "      <td>18.130880</td>\n",
       "    </tr>\n",
       "    <tr>\n",
       "      <th>9</th>\n",
       "      <td>{'n_factors': 50, 'n_epochs': 100}</td>\n",
       "      <td>0.840029</td>\n",
       "      <td>3</td>\n",
       "      <td>11.653924</td>\n",
       "    </tr>\n",
       "    <tr>\n",
       "      <th>3</th>\n",
       "      <td>{'n_factors': 5, 'n_epochs': 200}</td>\n",
       "      <td>0.847987</td>\n",
       "      <td>4</td>\n",
       "      <td>6.069218</td>\n",
       "    </tr>\n",
       "    <tr>\n",
       "      <th>2</th>\n",
       "      <td>{'n_factors': 5, 'n_epochs': 150}</td>\n",
       "      <td>0.854625</td>\n",
       "      <td>5</td>\n",
       "      <td>4.540476</td>\n",
       "    </tr>\n",
       "    <tr>\n",
       "      <th>6</th>\n",
       "      <td>{'n_factors': 15, 'n_epochs': 150}</td>\n",
       "      <td>0.857896</td>\n",
       "      <td>6</td>\n",
       "      <td>7.324359</td>\n",
       "    </tr>\n",
       "    <tr>\n",
       "      <th>7</th>\n",
       "      <td>{'n_factors': 15, 'n_epochs': 200}</td>\n",
       "      <td>0.859252</td>\n",
       "      <td>7</td>\n",
       "      <td>10.118707</td>\n",
       "    </tr>\n",
       "    <tr>\n",
       "      <th>5</th>\n",
       "      <td>{'n_factors': 15, 'n_epochs': 100}</td>\n",
       "      <td>0.864436</td>\n",
       "      <td>8</td>\n",
       "      <td>4.835415</td>\n",
       "    </tr>\n",
       "    <tr>\n",
       "      <th>1</th>\n",
       "      <td>{'n_factors': 5, 'n_epochs': 100}</td>\n",
       "      <td>0.865676</td>\n",
       "      <td>9</td>\n",
       "      <td>2.981614</td>\n",
       "    </tr>\n",
       "    <tr>\n",
       "      <th>4</th>\n",
       "      <td>{'n_factors': 15, 'n_epochs': 50}</td>\n",
       "      <td>0.868939</td>\n",
       "      <td>10</td>\n",
       "      <td>2.392875</td>\n",
       "    </tr>\n",
       "    <tr>\n",
       "      <th>8</th>\n",
       "      <td>{'n_factors': 50, 'n_epochs': 50}</td>\n",
       "      <td>0.953990</td>\n",
       "      <td>11</td>\n",
       "      <td>5.496529</td>\n",
       "    </tr>\n",
       "    <tr>\n",
       "      <th>0</th>\n",
       "      <td>{'n_factors': 5, 'n_epochs': 50}</td>\n",
       "      <td>0.988215</td>\n",
       "      <td>12</td>\n",
       "      <td>1.520474</td>\n",
       "    </tr>\n",
       "  </tbody>\n",
       "</table>\n",
       "</div>"
      ],
      "text/plain": [
       "                                params  mean_test_rmse  rank_test_rmse  \\\n",
       "11  {'n_factors': 50, 'n_epochs': 200}        0.838115               1   \n",
       "10  {'n_factors': 50, 'n_epochs': 150}        0.838829               2   \n",
       "9   {'n_factors': 50, 'n_epochs': 100}        0.840029               3   \n",
       "3    {'n_factors': 5, 'n_epochs': 200}        0.847987               4   \n",
       "2    {'n_factors': 5, 'n_epochs': 150}        0.854625               5   \n",
       "6   {'n_factors': 15, 'n_epochs': 150}        0.857896               6   \n",
       "7   {'n_factors': 15, 'n_epochs': 200}        0.859252               7   \n",
       "5   {'n_factors': 15, 'n_epochs': 100}        0.864436               8   \n",
       "1    {'n_factors': 5, 'n_epochs': 100}        0.865676               9   \n",
       "4    {'n_factors': 15, 'n_epochs': 50}        0.868939              10   \n",
       "8    {'n_factors': 50, 'n_epochs': 50}        0.953990              11   \n",
       "0     {'n_factors': 5, 'n_epochs': 50}        0.988215              12   \n",
       "\n",
       "    mean_fit_time  \n",
       "11      21.501723  \n",
       "10      18.130880  \n",
       "9       11.653924  \n",
       "3        6.069218  \n",
       "2        4.540476  \n",
       "6        7.324359  \n",
       "7       10.118707  \n",
       "5        4.835415  \n",
       "1        2.981614  \n",
       "4        2.392875  \n",
       "8        5.496529  \n",
       "0        1.520474  "
      ]
     },
     "execution_count": 19,
     "metadata": {},
     "output_type": "execute_result"
    }
   ],
   "source": [
    "pd.DataFrame(gs.cv_results)[['params', 'mean_test_rmse', 'rank_test_rmse', 'mean_fit_time']].sort_values('rank_test_rmse')"
   ]
  },
  {
   "cell_type": "code",
   "execution_count": 20,
   "id": "2ecc8cc3",
   "metadata": {},
   "outputs": [],
   "source": [
    "n_factors = 5\n",
    "n_epochs = 200"
   ]
  },
  {
   "cell_type": "markdown",
   "id": "448931cd",
   "metadata": {},
   "source": [
    "## Create NMF model"
   ]
  },
  {
   "cell_type": "code",
   "execution_count": 21,
   "id": "f631d4ea",
   "metadata": {},
   "outputs": [],
   "source": [
    "# Create the model, k = number of hidden features\n",
    "model = NMF(n_factors=n_factors, n_epochs=n_epochs) "
   ]
  },
  {
   "cell_type": "code",
   "execution_count": 22,
   "id": "2f66bcd6",
   "metadata": {
    "scrolled": true
   },
   "outputs": [
    {
     "data": {
      "text/plain": [
       "<surprise.prediction_algorithms.matrix_factorization.NMF at 0x13815eee0>"
      ]
     },
     "execution_count": 22,
     "metadata": {},
     "output_type": "execute_result"
    }
   ],
   "source": [
    "# Fit the model\n",
    "model.fit(trainset)"
   ]
  },
  {
   "cell_type": "code",
   "execution_count": 23,
   "id": "d2d3d3f8",
   "metadata": {},
   "outputs": [
    {
     "data": {
      "text/plain": [
       "((610, 5), (1235, 5))"
      ]
     },
     "execution_count": 23,
     "metadata": {},
     "output_type": "execute_result"
    }
   ],
   "source": [
    "# Calculate P and Q...\n",
    "Q = model.qi \n",
    "P = model.pu\n",
    "P.shape, Q.shape"
   ]
  },
  {
   "cell_type": "code",
   "execution_count": 24,
   "id": "59184552",
   "metadata": {},
   "outputs": [
    {
     "data": {
      "text/plain": [
       "array([[4.6, 3.7, 4.5, ..., 3. , 3.3, 3.5],\n",
       "       [3.5, 3.4, 3.7, ..., 1.9, 3.4, 2.8],\n",
       "       [2. , 2.1, 2.1, ..., 0.9, 1. , 1.9],\n",
       "       ...,\n",
       "       [3.1, 2.9, 3.8, ..., 2.1, 2.9, 2.7],\n",
       "       [3.4, 3.1, 3.6, ..., 1.9, 2.6, 2.7],\n",
       "       [4. , 3.4, 4.2, ..., 2.6, 2.8, 3.2]])"
      ]
     },
     "execution_count": 24,
     "metadata": {},
     "output_type": "execute_result"
    }
   ],
   "source": [
    "# ...to get full (reconstructed) matrix\n",
    "np.round(np.dot(P, Q.T), 1)"
   ]
  },
  {
   "cell_type": "code",
   "execution_count": 25,
   "id": "f7bdb5e8",
   "metadata": {},
   "outputs": [
    {
     "data": {
      "text/plain": [
       "Prediction(uid=1, iid=1, r_ui=None, est=4.639819167303868, details={'was_impossible': False})"
      ]
     },
     "execution_count": 25,
     "metadata": {},
     "output_type": "execute_result"
    }
   ],
   "source": [
    "# Predict a value for a specific user and movie...\n",
    "model.predict(1,1)"
   ]
  },
  {
   "cell_type": "code",
   "execution_count": 26,
   "id": "94e75aee",
   "metadata": {},
   "outputs": [
    {
     "data": {
      "text/html": [
       "<div>\n",
       "<style scoped>\n",
       "    .dataframe tbody tr th:only-of-type {\n",
       "        vertical-align: middle;\n",
       "    }\n",
       "\n",
       "    .dataframe tbody tr th {\n",
       "        vertical-align: top;\n",
       "    }\n",
       "\n",
       "    .dataframe thead th {\n",
       "        text-align: right;\n",
       "    }\n",
       "</style>\n",
       "<table border=\"1\" class=\"dataframe\">\n",
       "  <thead>\n",
       "    <tr style=\"text-align: right;\">\n",
       "      <th></th>\n",
       "      <th>userId</th>\n",
       "      <th>movieId</th>\n",
       "      <th>rating</th>\n",
       "    </tr>\n",
       "  </thead>\n",
       "  <tbody>\n",
       "    <tr>\n",
       "      <th>0</th>\n",
       "      <td>1</td>\n",
       "      <td>1</td>\n",
       "      <td>4.0</td>\n",
       "    </tr>\n",
       "  </tbody>\n",
       "</table>\n",
       "</div>"
      ],
      "text/plain": [
       "   userId  movieId  rating\n",
       "0       1        1     4.0"
      ]
     },
     "execution_count": 26,
     "metadata": {},
     "output_type": "execute_result"
    }
   ],
   "source": [
    "#...and compare it with existing values\n",
    "df_nmf[(df_nmf['userId']==1) & (df_nmf['movieId']==1)]"
   ]
  },
  {
   "cell_type": "markdown",
   "id": "5c39853a",
   "metadata": {},
   "source": [
    "## Derive recommendations for a new user"
   ]
  },
  {
   "cell_type": "code",
   "execution_count": 27,
   "id": "13105efd",
   "metadata": {},
   "outputs": [],
   "source": [
    "user = 'new_user'\n",
    "movie_ratings = {\n",
    "    'Toy Story (1995)' : 2,\n",
    "    'Batman Begins (2005)' : 5,\n",
    "    'Inception (2010)' : 4,\n",
    "    'Heat (1995)' : 3,\n",
    "}"
   ]
  },
  {
   "cell_type": "code",
   "execution_count": 28,
   "id": "6cbc20b2",
   "metadata": {},
   "outputs": [],
   "source": [
    "# Create {movieId : title} and {title : movieId} dictionaries\n",
    "movieId_dict = {}\n",
    "for idx, movieId, title in df[['movieId', 'title']].itertuples():\n",
    "    movieId_dict[movieId] = title\n",
    "\n",
    "title_dict = {value:key for key, value in movieId_dict.items()}"
   ]
  },
  {
   "cell_type": "code",
   "execution_count": 29,
   "id": "eba133c1",
   "metadata": {},
   "outputs": [
    {
     "data": {
      "text/plain": [
       "{1: 2, 33794: 5, 79132: 4, 6: 3}"
      ]
     },
     "execution_count": 29,
     "metadata": {},
     "output_type": "execute_result"
    }
   ],
   "source": [
    "# Convert movie rratings into movie IDs\n",
    "movie_ratings = {title_dict[title]:rating for title, rating in movie_ratings.items()}\n",
    "movie_ratings"
   ]
  },
  {
   "cell_type": "code",
   "execution_count": 30,
   "id": "f692a5d7",
   "metadata": {},
   "outputs": [
    {
     "data": {
      "text/html": [
       "<div>\n",
       "<style scoped>\n",
       "    .dataframe tbody tr th:only-of-type {\n",
       "        vertical-align: middle;\n",
       "    }\n",
       "\n",
       "    .dataframe tbody tr th {\n",
       "        vertical-align: top;\n",
       "    }\n",
       "\n",
       "    .dataframe thead th {\n",
       "        text-align: right;\n",
       "    }\n",
       "</style>\n",
       "<table border=\"1\" class=\"dataframe\">\n",
       "  <thead>\n",
       "    <tr style=\"text-align: right;\">\n",
       "      <th></th>\n",
       "      <th>userId</th>\n",
       "      <th>movieId</th>\n",
       "      <th>rating</th>\n",
       "    </tr>\n",
       "  </thead>\n",
       "  <tbody>\n",
       "    <tr>\n",
       "      <th>0</th>\n",
       "      <td>new_user</td>\n",
       "      <td>1</td>\n",
       "      <td>2</td>\n",
       "    </tr>\n",
       "    <tr>\n",
       "      <th>1</th>\n",
       "      <td>new_user</td>\n",
       "      <td>33794</td>\n",
       "      <td>5</td>\n",
       "    </tr>\n",
       "    <tr>\n",
       "      <th>2</th>\n",
       "      <td>new_user</td>\n",
       "      <td>79132</td>\n",
       "      <td>4</td>\n",
       "    </tr>\n",
       "    <tr>\n",
       "      <th>3</th>\n",
       "      <td>new_user</td>\n",
       "      <td>6</td>\n",
       "      <td>3</td>\n",
       "    </tr>\n",
       "  </tbody>\n",
       "</table>\n",
       "</div>"
      ],
      "text/plain": [
       "     userId  movieId  rating\n",
       "0  new_user        1       2\n",
       "1  new_user    33794       5\n",
       "2  new_user    79132       4\n",
       "3  new_user        6       3"
      ]
     },
     "execution_count": 30,
     "metadata": {},
     "output_type": "execute_result"
    }
   ],
   "source": [
    "# Create dataframe for new user\n",
    "df_new_usr = pd.DataFrame.from_dict(movie_ratings, orient='index')\n",
    "df_new_usr['userId']=user\n",
    "df_new_usr = df_new_usr.reset_index().rename(columns={'index':'movieId', 0:'rating'})\n",
    "df_new_usr = df_new_usr[['userId', 'movieId', 'rating']]\n",
    "df_new_usr"
   ]
  },
  {
   "cell_type": "code",
   "execution_count": 31,
   "id": "af6cc00b",
   "metadata": {},
   "outputs": [
    {
     "data": {
      "text/html": [
       "<div>\n",
       "<style scoped>\n",
       "    .dataframe tbody tr th:only-of-type {\n",
       "        vertical-align: middle;\n",
       "    }\n",
       "\n",
       "    .dataframe tbody tr th {\n",
       "        vertical-align: top;\n",
       "    }\n",
       "\n",
       "    .dataframe thead th {\n",
       "        text-align: right;\n",
       "    }\n",
       "</style>\n",
       "<table border=\"1\" class=\"dataframe\">\n",
       "  <thead>\n",
       "    <tr style=\"text-align: right;\">\n",
       "      <th></th>\n",
       "      <th>userId</th>\n",
       "      <th>movieId</th>\n",
       "      <th>rating</th>\n",
       "    </tr>\n",
       "  </thead>\n",
       "  <tbody>\n",
       "    <tr>\n",
       "      <th>66652</th>\n",
       "      <td>610</td>\n",
       "      <td>139385</td>\n",
       "      <td>4.5</td>\n",
       "    </tr>\n",
       "    <tr>\n",
       "      <th>66653</th>\n",
       "      <td>610</td>\n",
       "      <td>148626</td>\n",
       "      <td>4.0</td>\n",
       "    </tr>\n",
       "    <tr>\n",
       "      <th>66654</th>\n",
       "      <td>610</td>\n",
       "      <td>152081</td>\n",
       "      <td>4.0</td>\n",
       "    </tr>\n",
       "    <tr>\n",
       "      <th>66655</th>\n",
       "      <td>610</td>\n",
       "      <td>164179</td>\n",
       "      <td>5.0</td>\n",
       "    </tr>\n",
       "    <tr>\n",
       "      <th>66656</th>\n",
       "      <td>610</td>\n",
       "      <td>166528</td>\n",
       "      <td>4.0</td>\n",
       "    </tr>\n",
       "    <tr>\n",
       "      <th>66657</th>\n",
       "      <td>610</td>\n",
       "      <td>168252</td>\n",
       "      <td>5.0</td>\n",
       "    </tr>\n",
       "    <tr>\n",
       "      <th>66658</th>\n",
       "      <td>new_user</td>\n",
       "      <td>1</td>\n",
       "      <td>2.0</td>\n",
       "    </tr>\n",
       "    <tr>\n",
       "      <th>66659</th>\n",
       "      <td>new_user</td>\n",
       "      <td>33794</td>\n",
       "      <td>5.0</td>\n",
       "    </tr>\n",
       "    <tr>\n",
       "      <th>66660</th>\n",
       "      <td>new_user</td>\n",
       "      <td>79132</td>\n",
       "      <td>4.0</td>\n",
       "    </tr>\n",
       "    <tr>\n",
       "      <th>66661</th>\n",
       "      <td>new_user</td>\n",
       "      <td>6</td>\n",
       "      <td>3.0</td>\n",
       "    </tr>\n",
       "  </tbody>\n",
       "</table>\n",
       "</div>"
      ],
      "text/plain": [
       "         userId  movieId  rating\n",
       "66652       610   139385     4.5\n",
       "66653       610   148626     4.0\n",
       "66654       610   152081     4.0\n",
       "66655       610   164179     5.0\n",
       "66656       610   166528     4.0\n",
       "66657       610   168252     5.0\n",
       "66658  new_user        1     2.0\n",
       "66659  new_user    33794     5.0\n",
       "66660  new_user    79132     4.0\n",
       "66661  new_user        6     3.0"
      ]
     },
     "execution_count": 31,
     "metadata": {},
     "output_type": "execute_result"
    }
   ],
   "source": [
    "# Concat dataframes (i.e. create one single / new dataset)\n",
    "df_nmf_new = pd.concat([df_nmf, df_new_usr], ignore_index=True)\n",
    "df_nmf_new.tail(10)"
   ]
  },
  {
   "cell_type": "code",
   "execution_count": 32,
   "id": "b9f8358a",
   "metadata": {},
   "outputs": [],
   "source": [
    "# Load the data\n",
    "data = Dataset.load_from_df(df_nmf_new, reader)"
   ]
  },
  {
   "cell_type": "code",
   "execution_count": 33,
   "id": "15a54515",
   "metadata": {},
   "outputs": [],
   "source": [
    "# Define the whole dataset as trainset\n",
    "trainset = data.build_full_trainset() "
   ]
  },
  {
   "cell_type": "code",
   "execution_count": 34,
   "id": "53c024c2",
   "metadata": {},
   "outputs": [],
   "source": [
    "# Create the model, k = number of hidden features\n",
    "model = NMF(n_factors=n_factors, n_epochs=n_epochs) "
   ]
  },
  {
   "cell_type": "code",
   "execution_count": 35,
   "id": "c9fe0ba3",
   "metadata": {
    "scrolled": true
   },
   "outputs": [
    {
     "data": {
      "text/plain": [
       "<surprise.prediction_algorithms.matrix_factorization.NMF at 0x13816ddf0>"
      ]
     },
     "execution_count": 35,
     "metadata": {},
     "output_type": "execute_result"
    }
   ],
   "source": [
    "# Fit the model\n",
    "model.fit(trainset)"
   ]
  },
  {
   "cell_type": "code",
   "execution_count": 36,
   "id": "56501f80",
   "metadata": {},
   "outputs": [],
   "source": [
    "# Generate test_data\n",
    "data_all_users = trainset.build_anti_testset()\n",
    "test_data = [set for set in data_all_users if set[0] == 'new_user']"
   ]
  },
  {
   "cell_type": "code",
   "execution_count": 37,
   "id": "7af8651c",
   "metadata": {},
   "outputs": [],
   "source": [
    "# Get predictions on test dataset\n",
    "test_results = model.test(test_data)"
   ]
  },
  {
   "cell_type": "code",
   "execution_count": 38,
   "id": "cfdeda14",
   "metadata": {
    "scrolled": true
   },
   "outputs": [
    {
     "data": {
      "text/html": [
       "<div>\n",
       "<style scoped>\n",
       "    .dataframe tbody tr th:only-of-type {\n",
       "        vertical-align: middle;\n",
       "    }\n",
       "\n",
       "    .dataframe tbody tr th {\n",
       "        vertical-align: top;\n",
       "    }\n",
       "\n",
       "    .dataframe thead th {\n",
       "        text-align: right;\n",
       "    }\n",
       "</style>\n",
       "<table border=\"1\" class=\"dataframe\">\n",
       "  <thead>\n",
       "    <tr style=\"text-align: right;\">\n",
       "      <th></th>\n",
       "      <th>userId</th>\n",
       "      <th>movieId</th>\n",
       "      <th>prediction</th>\n",
       "    </tr>\n",
       "  </thead>\n",
       "  <tbody>\n",
       "    <tr>\n",
       "      <th>0</th>\n",
       "      <td>new_user</td>\n",
       "      <td>3</td>\n",
       "      <td>2.954531</td>\n",
       "    </tr>\n",
       "    <tr>\n",
       "      <th>1</th>\n",
       "      <td>new_user</td>\n",
       "      <td>47</td>\n",
       "      <td>3.760455</td>\n",
       "    </tr>\n",
       "    <tr>\n",
       "      <th>2</th>\n",
       "      <td>new_user</td>\n",
       "      <td>50</td>\n",
       "      <td>3.475827</td>\n",
       "    </tr>\n",
       "    <tr>\n",
       "      <th>3</th>\n",
       "      <td>new_user</td>\n",
       "      <td>70</td>\n",
       "      <td>3.245685</td>\n",
       "    </tr>\n",
       "    <tr>\n",
       "      <th>4</th>\n",
       "      <td>new_user</td>\n",
       "      <td>101</td>\n",
       "      <td>2.457442</td>\n",
       "    </tr>\n",
       "    <tr>\n",
       "      <th>...</th>\n",
       "      <td>...</td>\n",
       "      <td>...</td>\n",
       "      <td>...</td>\n",
       "    </tr>\n",
       "    <tr>\n",
       "      <th>1226</th>\n",
       "      <td>new_user</td>\n",
       "      <td>1958</td>\n",
       "      <td>4.150027</td>\n",
       "    </tr>\n",
       "    <tr>\n",
       "      <th>1227</th>\n",
       "      <td>new_user</td>\n",
       "      <td>3979</td>\n",
       "      <td>2.251679</td>\n",
       "    </tr>\n",
       "    <tr>\n",
       "      <th>1228</th>\n",
       "      <td>new_user</td>\n",
       "      <td>4247</td>\n",
       "      <td>1.6858</td>\n",
       "    </tr>\n",
       "    <tr>\n",
       "      <th>1229</th>\n",
       "      <td>new_user</td>\n",
       "      <td>2986</td>\n",
       "      <td>2.962147</td>\n",
       "    </tr>\n",
       "    <tr>\n",
       "      <th>1230</th>\n",
       "      <td>new_user</td>\n",
       "      <td>2013</td>\n",
       "      <td>2.072927</td>\n",
       "    </tr>\n",
       "  </tbody>\n",
       "</table>\n",
       "<p>1231 rows × 3 columns</p>\n",
       "</div>"
      ],
      "text/plain": [
       "        userId movieId prediction\n",
       "0     new_user       3   2.954531\n",
       "1     new_user      47   3.760455\n",
       "2     new_user      50   3.475827\n",
       "3     new_user      70   3.245685\n",
       "4     new_user     101   2.457442\n",
       "...        ...     ...        ...\n",
       "1226  new_user    1958   4.150027\n",
       "1227  new_user    3979   2.251679\n",
       "1228  new_user    4247     1.6858\n",
       "1229  new_user    2986   2.962147\n",
       "1230  new_user    2013   2.072927\n",
       "\n",
       "[1231 rows x 3 columns]"
      ]
     },
     "execution_count": 38,
     "metadata": {},
     "output_type": "execute_result"
    }
   ],
   "source": [
    "# Save results in a dataframe\n",
    "df_test_results = pd.DataFrame(np.array(test_results)[:,(1,3)], columns=['movieId', 'prediction'])\n",
    "df_test_results['userId'] = user\n",
    "df_test_results = df_test_results[['userId', 'movieId', 'prediction']]\n",
    "df_test_results"
   ]
  },
  {
   "cell_type": "code",
   "execution_count": 39,
   "id": "d2ba339c",
   "metadata": {},
   "outputs": [
    {
     "data": {
      "text/plain": [
       "1057                                       Ben-Hur (1959)\n",
       "475                                            Saw (2004)\n",
       "646                       Sex, Lies, and Videotape (1989)\n",
       "522                              Pride & Prejudice (2005)\n",
       "656                            Killing Fields, The (1984)\n",
       "842                                         Scream (1996)\n",
       "774     Girl with the Dragon Tattoo, The (Män som hata...\n",
       "492         Sunset Blvd. (a.k.a. Sunset Boulevard) (1950)\n",
       "195                                       Whiplash (2014)\n",
       "252                  Bridge on the River Kwai, The (1957)\n",
       "93                                           Rocky (1976)\n",
       "282                                      Airplane! (1980)\n",
       "1024                                        Munich (2005)\n",
       "1094                            Lawrence of Arabia (1962)\n",
       "47                                        Swingers (1996)\n",
       "1085                         Thank You for Smoking (2006)\n",
       "1034                   Madness of King George, The (1994)\n",
       "239                                     Casablanca (1942)\n",
       "1100                              Right Stuff, The (1983)\n",
       "421                      Hunt for Red October, The (1990)\n",
       "Name: title, dtype: object"
      ]
     },
     "execution_count": 39,
     "metadata": {},
     "output_type": "execute_result"
    }
   ],
   "source": [
    "# Generate final result\n",
    "df_test_results['title'] = df_test_results['movieId'].apply(lambda x: movieId_dict[x])\n",
    "topX = df_test_results.sort_values('prediction', ascending=False)['title'].head(20)\n",
    "topX"
   ]
  },
  {
   "cell_type": "code",
   "execution_count": 40,
   "id": "cbfac346",
   "metadata": {},
   "outputs": [
    {
     "data": {
      "text/plain": [
       "1057                                       Ben-Hur (1959)\n",
       "475                                            Saw (2004)\n",
       "646                       Sex, Lies, and Videotape (1989)\n",
       "522                              Pride & Prejudice (2005)\n",
       "656                            Killing Fields, The (1984)\n",
       "842                                         Scream (1996)\n",
       "774     Girl with the Dragon Tattoo, The (Män som hata...\n",
       "492         Sunset Blvd. (a.k.a. Sunset Boulevard) (1950)\n",
       "195                                       Whiplash (2014)\n",
       "252                  Bridge on the River Kwai, The (1957)\n",
       "93                                           Rocky (1976)\n",
       "282                                      Airplane! (1980)\n",
       "1024                                        Munich (2005)\n",
       "1094                            Lawrence of Arabia (1962)\n",
       "47                                        Swingers (1996)\n",
       "1085                         Thank You for Smoking (2006)\n",
       "1034                   Madness of King George, The (1994)\n",
       "239                                     Casablanca (1942)\n",
       "1100                              Right Stuff, The (1983)\n",
       "421                      Hunt for Red October, The (1990)\n",
       "Name: title, dtype: object"
      ]
     },
     "execution_count": 40,
     "metadata": {},
     "output_type": "execute_result"
    }
   ],
   "source": [
    "# Generate final result\n",
    "df_test_results['title'] = df_test_results['movieId'].apply(lambda x: movieId_dict[x])\n",
    "topX = df_test_results.sort_values('prediction', ascending=False)['title'].head(20)\n",
    "topX"
   ]
  },
  {
   "cell_type": "markdown",
   "id": "fb80e5e2",
   "metadata": {},
   "source": [
    "# Movie clustering using hidden features"
   ]
  },
  {
   "cell_type": "markdown",
   "id": "2d41238a",
   "metadata": {},
   "source": [
    "## Conduct PCA"
   ]
  },
  {
   "cell_type": "code",
   "execution_count": 41,
   "id": "dc4c36c6",
   "metadata": {},
   "outputs": [
    {
     "data": {
      "text/plain": [
       "(1235, 5)"
      ]
     },
     "execution_count": 41,
     "metadata": {},
     "output_type": "execute_result"
    }
   ],
   "source": [
    "# Get Q matrix from model (contains hidenn features)\n",
    "Q = model.qi\n",
    "Q.shape"
   ]
  },
  {
   "cell_type": "code",
   "execution_count": 42,
   "id": "28391893",
   "metadata": {},
   "outputs": [],
   "source": [
    "# Data on which the PCA-transformation is calculated should be normalized, meaning in this case: \n",
    "# zero mean & unit variance\n",
    "scaler = StandardScaler()\n",
    "Q_nrm = scaler.fit_transform(Q)"
   ]
  },
  {
   "cell_type": "code",
   "execution_count": 43,
   "id": "d15b19bc",
   "metadata": {},
   "outputs": [
    {
     "name": "stdout",
     "output_type": "stream",
     "text": [
      "[0.30739543 0.24169625 0.2285674 ]\n",
      "0.7776590718941297\n"
     ]
    }
   ],
   "source": [
    "# Average needs to be zero for PCA to work\n",
    "#mean = Q.mean(axis=0)\n",
    "#demeaned = Q - mean\n",
    "\n",
    "pca = PCA(n_components=3)\n",
    "pca.fit(Q_nrm)\n",
    "\n",
    "#print(pca.components_)\n",
    "print(pca.explained_variance_ratio_)\n",
    "print(pca.explained_variance_ratio_.sum())"
   ]
  },
  {
   "cell_type": "code",
   "execution_count": 44,
   "id": "b641af3e",
   "metadata": {},
   "outputs": [
    {
     "data": {
      "text/plain": [
       "(1235, 3)"
      ]
     },
     "execution_count": 44,
     "metadata": {},
     "output_type": "execute_result"
    }
   ],
   "source": [
    "# Transform Q_nrm (onto pca components)\n",
    "Q_pca = pca.transform(Q_nrm)\n",
    "Q_pca.shape"
   ]
  },
  {
   "cell_type": "markdown",
   "id": "5cb7811e",
   "metadata": {},
   "source": [
    "## Perform K-means"
   ]
  },
  {
   "cell_type": "code",
   "execution_count": 45,
   "id": "2d4212fb",
   "metadata": {},
   "outputs": [
    {
     "data": {
      "text/plain": [
       "[<matplotlib.lines.Line2D at 0x1393715b0>]"
      ]
     },
     "execution_count": 45,
     "metadata": {},
     "output_type": "execute_result"
    },
    {
     "data": {
      "image/png": "[encoded data removed]",
      "text/plain": [
       "<Figure size 432x288 with 1 Axes>"
      ]
     },
     "metadata": {
      "needs_background": "light"
     },
     "output_type": "display_data"
    }
   ],
   "source": [
    "# Plot inertia curve to see what the number of clusters should be like\n",
    "inertia = []\n",
    "for i in range(1,50):\n",
    "    kmeans = KMeans(n_clusters=i)\n",
    "    kmeans.fit(Q)\n",
    "    inertia.append(kmeans.inertia_)\n",
    "plt.plot(range(1, 50), inertia)"
   ]
  },
  {
   "cell_type": "code",
   "execution_count": 46,
   "id": "28d2c095",
   "metadata": {},
   "outputs": [
    {
     "data": {
      "text/plain": [
       "0.23770707570266533"
      ]
     },
     "execution_count": 46,
     "metadata": {},
     "output_type": "execute_result"
    }
   ],
   "source": [
    "# Maximum silhoutte for k = 10!!!\n",
    "kmeans = KMeans(n_clusters=10)\n",
    "kmeans.fit(Q_pca)\n",
    "silhouette_score(Q_pca, kmeans.labels_)"
   ]
  },
  {
   "cell_type": "code",
   "execution_count": 47,
   "id": "de38884f",
   "metadata": {},
   "outputs": [
    {
     "data": {
      "text/html": [
       "<div>\n",
       "<style scoped>\n",
       "    .dataframe tbody tr th:only-of-type {\n",
       "        vertical-align: middle;\n",
       "    }\n",
       "\n",
       "    .dataframe tbody tr th {\n",
       "        vertical-align: top;\n",
       "    }\n",
       "\n",
       "    .dataframe thead th {\n",
       "        text-align: right;\n",
       "    }\n",
       "</style>\n",
       "<table border=\"1\" class=\"dataframe\">\n",
       "  <thead>\n",
       "    <tr style=\"text-align: right;\">\n",
       "      <th></th>\n",
       "      <th>movies</th>\n",
       "    </tr>\n",
       "    <tr>\n",
       "      <th>labels</th>\n",
       "      <th></th>\n",
       "    </tr>\n",
       "  </thead>\n",
       "  <tbody>\n",
       "    <tr>\n",
       "      <th>0</th>\n",
       "      <td>149</td>\n",
       "    </tr>\n",
       "    <tr>\n",
       "      <th>1</th>\n",
       "      <td>138</td>\n",
       "    </tr>\n",
       "    <tr>\n",
       "      <th>2</th>\n",
       "      <td>96</td>\n",
       "    </tr>\n",
       "    <tr>\n",
       "      <th>3</th>\n",
       "      <td>95</td>\n",
       "    </tr>\n",
       "    <tr>\n",
       "      <th>4</th>\n",
       "      <td>132</td>\n",
       "    </tr>\n",
       "    <tr>\n",
       "      <th>5</th>\n",
       "      <td>95</td>\n",
       "    </tr>\n",
       "    <tr>\n",
       "      <th>6</th>\n",
       "      <td>104</td>\n",
       "    </tr>\n",
       "    <tr>\n",
       "      <th>7</th>\n",
       "      <td>155</td>\n",
       "    </tr>\n",
       "    <tr>\n",
       "      <th>8</th>\n",
       "      <td>159</td>\n",
       "    </tr>\n",
       "    <tr>\n",
       "      <th>9</th>\n",
       "      <td>112</td>\n",
       "    </tr>\n",
       "  </tbody>\n",
       "</table>\n",
       "</div>"
      ],
      "text/plain": [
       "        movies\n",
       "labels        \n",
       "0          149\n",
       "1          138\n",
       "2           96\n",
       "3           95\n",
       "4          132\n",
       "5           95\n",
       "6          104\n",
       "7          155\n",
       "8          159\n",
       "9          112"
      ]
     },
     "execution_count": 47,
     "metadata": {},
     "output_type": "execute_result"
    }
   ],
   "source": [
    "# Define dataframe with movie titles and cluster labels\n",
    "movie_list = []\n",
    "for iid in range(Q_pca.shape[0]):\n",
    "    r_id = trainset.to_raw_iid(iid)\n",
    "    title = movieId_dict[r_id]\n",
    "    movie_list.append(title)\n",
    "\n",
    "df_clusters = pd.DataFrame({'movies' : movie_list, 'labels' : kmeans.labels_})\n",
    "df_clusters.groupby('labels').count()"
   ]
  },
  {
   "cell_type": "code",
   "execution_count": 48,
   "id": "83b75d6c",
   "metadata": {
    "scrolled": true
   },
   "outputs": [
    {
     "data": {
      "text/html": [
       "<div>\n",
       "<style scoped>\n",
       "    .dataframe tbody tr th:only-of-type {\n",
       "        vertical-align: middle;\n",
       "    }\n",
       "\n",
       "    .dataframe tbody tr th {\n",
       "        vertical-align: top;\n",
       "    }\n",
       "\n",
       "    .dataframe thead th {\n",
       "        text-align: right;\n",
       "    }\n",
       "</style>\n",
       "<table border=\"1\" class=\"dataframe\">\n",
       "  <thead>\n",
       "    <tr style=\"text-align: right;\">\n",
       "      <th></th>\n",
       "      <th>movies</th>\n",
       "      <th>labels</th>\n",
       "    </tr>\n",
       "  </thead>\n",
       "  <tbody>\n",
       "    <tr>\n",
       "      <th>0</th>\n",
       "      <td>Toy Story (1995)</td>\n",
       "      <td>1</td>\n",
       "    </tr>\n",
       "    <tr>\n",
       "      <th>1</th>\n",
       "      <td>Grumpier Old Men (1995)</td>\n",
       "      <td>1</td>\n",
       "    </tr>\n",
       "    <tr>\n",
       "      <th>7</th>\n",
       "      <td>Braveheart (1995)</td>\n",
       "      <td>1</td>\n",
       "    </tr>\n",
       "    <tr>\n",
       "      <th>14</th>\n",
       "      <td>Star Wars: Episode IV - A New Hope (1977)</td>\n",
       "      <td>1</td>\n",
       "    </tr>\n",
       "    <tr>\n",
       "      <th>23</th>\n",
       "      <td>Fugitive, The (1993)</td>\n",
       "      <td>1</td>\n",
       "    </tr>\n",
       "    <tr>\n",
       "      <th>24</th>\n",
       "      <td>Jurassic Park (1993)</td>\n",
       "      <td>1</td>\n",
       "    </tr>\n",
       "    <tr>\n",
       "      <th>28</th>\n",
       "      <td>Three Musketeers, The (1993)</td>\n",
       "      <td>1</td>\n",
       "    </tr>\n",
       "    <tr>\n",
       "      <th>38</th>\n",
       "      <td>Rock, The (1996)</td>\n",
       "      <td>1</td>\n",
       "    </tr>\n",
       "    <tr>\n",
       "      <th>43</th>\n",
       "      <td>Sword in the Stone, The (1963)</td>\n",
       "      <td>1</td>\n",
       "    </tr>\n",
       "    <tr>\n",
       "      <th>47</th>\n",
       "      <td>That Thing You Do! (1996)</td>\n",
       "      <td>1</td>\n",
       "    </tr>\n",
       "  </tbody>\n",
       "</table>\n",
       "</div>"
      ],
      "text/plain": [
       "                                       movies  labels\n",
       "0                            Toy Story (1995)       1\n",
       "1                     Grumpier Old Men (1995)       1\n",
       "7                           Braveheart (1995)       1\n",
       "14  Star Wars: Episode IV - A New Hope (1977)       1\n",
       "23                       Fugitive, The (1993)       1\n",
       "24                       Jurassic Park (1993)       1\n",
       "28               Three Musketeers, The (1993)       1\n",
       "38                           Rock, The (1996)       1\n",
       "43             Sword in the Stone, The (1963)       1\n",
       "47                  That Thing You Do! (1996)       1"
      ]
     },
     "execution_count": 48,
     "metadata": {},
     "output_type": "execute_result"
    }
   ],
   "source": [
    "# Inspect cluster 1 - any similarities between movies??\n",
    "df_clusters[df_clusters['labels']==1].head(10)"
   ]
  },
  {
   "cell_type": "code",
   "execution_count": 49,
   "id": "064c4fca",
   "metadata": {},
   "outputs": [],
   "source": [
    "# Taking into account mean ratings of the movies\n",
    "mean_rating = df.groupby('title')[['rating']].mean().sort_values('rating', ascending=False)\n",
    "mean_rating_dict = {}\n",
    "for title, rating in mean_rating.itertuples():\n",
    "    mean_rating_dict[title] = rating"
   ]
  },
  {
   "cell_type": "code",
   "execution_count": 50,
   "id": "5b3baa2a",
   "metadata": {},
   "outputs": [
    {
     "data": {
      "text/html": [
       "<div>\n",
       "<style scoped>\n",
       "    .dataframe tbody tr th:only-of-type {\n",
       "        vertical-align: middle;\n",
       "    }\n",
       "\n",
       "    .dataframe tbody tr th {\n",
       "        vertical-align: top;\n",
       "    }\n",
       "\n",
       "    .dataframe thead th {\n",
       "        text-align: right;\n",
       "    }\n",
       "</style>\n",
       "<table border=\"1\" class=\"dataframe\">\n",
       "  <thead>\n",
       "    <tr style=\"text-align: right;\">\n",
       "      <th></th>\n",
       "      <th>movies</th>\n",
       "      <th>labels</th>\n",
       "      <th>mean_rating</th>\n",
       "    </tr>\n",
       "  </thead>\n",
       "  <tbody>\n",
       "    <tr>\n",
       "      <th>186</th>\n",
       "      <td>Dark Knight, The (2008)</td>\n",
       "      <td>1</td>\n",
       "      <td>4.238255</td>\n",
       "    </tr>\n",
       "    <tr>\n",
       "      <th>59</th>\n",
       "      <td>Princess Bride, The (1987)</td>\n",
       "      <td>1</td>\n",
       "      <td>4.232394</td>\n",
       "    </tr>\n",
       "    <tr>\n",
       "      <th>14</th>\n",
       "      <td>Star Wars: Episode IV - A New Hope (1977)</td>\n",
       "      <td>1</td>\n",
       "      <td>4.231076</td>\n",
       "    </tr>\n",
       "    <tr>\n",
       "      <th>58</th>\n",
       "      <td>Star Wars: Episode V - The Empire Strikes Back...</td>\n",
       "      <td>1</td>\n",
       "      <td>4.215640</td>\n",
       "    </tr>\n",
       "    <tr>\n",
       "      <th>60</th>\n",
       "      <td>Raiders of the Lost Ark (Indiana Jones and the...</td>\n",
       "      <td>1</td>\n",
       "      <td>4.207500</td>\n",
       "    </tr>\n",
       "    <tr>\n",
       "      <th>675</th>\n",
       "      <td>Toy Story 3 (2010)</td>\n",
       "      <td>1</td>\n",
       "      <td>4.109091</td>\n",
       "    </tr>\n",
       "    <tr>\n",
       "      <th>688</th>\n",
       "      <td>Howl's Moving Castle (Hauru no ugoku shiro) (2...</td>\n",
       "      <td>1</td>\n",
       "      <td>4.075000</td>\n",
       "    </tr>\n",
       "    <tr>\n",
       "      <th>1042</th>\n",
       "      <td>Femme Nikita, La (Nikita) (1990)</td>\n",
       "      <td>1</td>\n",
       "      <td>4.071429</td>\n",
       "    </tr>\n",
       "    <tr>\n",
       "      <th>141</th>\n",
       "      <td>Iron Giant, The (1999)</td>\n",
       "      <td>1</td>\n",
       "      <td>4.051282</td>\n",
       "    </tr>\n",
       "    <tr>\n",
       "      <th>77</th>\n",
       "      <td>Indiana Jones and the Last Crusade (1989)</td>\n",
       "      <td>1</td>\n",
       "      <td>4.046429</td>\n",
       "    </tr>\n",
       "  </tbody>\n",
       "</table>\n",
       "</div>"
      ],
      "text/plain": [
       "                                                 movies  labels  mean_rating\n",
       "186                             Dark Knight, The (2008)       1     4.238255\n",
       "59                           Princess Bride, The (1987)       1     4.232394\n",
       "14            Star Wars: Episode IV - A New Hope (1977)       1     4.231076\n",
       "58    Star Wars: Episode V - The Empire Strikes Back...       1     4.215640\n",
       "60    Raiders of the Lost Ark (Indiana Jones and the...       1     4.207500\n",
       "675                                  Toy Story 3 (2010)       1     4.109091\n",
       "688   Howl's Moving Castle (Hauru no ugoku shiro) (2...       1     4.075000\n",
       "1042                   Femme Nikita, La (Nikita) (1990)       1     4.071429\n",
       "141                              Iron Giant, The (1999)       1     4.051282\n",
       "77            Indiana Jones and the Last Crusade (1989)       1     4.046429"
      ]
     },
     "execution_count": 50,
     "metadata": {},
     "output_type": "execute_result"
    }
   ],
   "source": [
    "selected_cluster = 1\n",
    "df_clusters['mean_rating'] = df_clusters['movies'].apply(lambda x: mean_rating_dict[x])\n",
    "df_clusters[df_clusters['labels']==selected_cluster].sort_values('mean_rating', ascending=False).head(10)"
   ]
  },
  {
   "cell_type": "markdown",
   "id": "ba2e8c0c",
   "metadata": {},
   "source": [
    "## Plot 3D scatter plot"
   ]
  },
  {
   "cell_type": "code",
   "execution_count": 51,
   "id": "eb750fff",
   "metadata": {},
   "outputs": [
    {
     "data": {
      "text/html": [
       "<div>\n",
       "<style scoped>\n",
       "    .dataframe tbody tr th:only-of-type {\n",
       "        vertical-align: middle;\n",
       "    }\n",
       "\n",
       "    .dataframe tbody tr th {\n",
       "        vertical-align: top;\n",
       "    }\n",
       "\n",
       "    .dataframe thead th {\n",
       "        text-align: right;\n",
       "    }\n",
       "</style>\n",
       "<table border=\"1\" class=\"dataframe\">\n",
       "  <thead>\n",
       "    <tr style=\"text-align: right;\">\n",
       "      <th></th>\n",
       "      <th>movies</th>\n",
       "      <th>labels</th>\n",
       "      <th>mean_rating</th>\n",
       "      <th>pca_1</th>\n",
       "      <th>pca_2</th>\n",
       "      <th>pca_3</th>\n",
       "    </tr>\n",
       "  </thead>\n",
       "  <tbody>\n",
       "    <tr>\n",
       "      <th>0</th>\n",
       "      <td>Toy Story (1995)</td>\n",
       "      <td>1</td>\n",
       "      <td>3.920930</td>\n",
       "      <td>0.649224</td>\n",
       "      <td>0.042402</td>\n",
       "      <td>-0.597296</td>\n",
       "    </tr>\n",
       "    <tr>\n",
       "      <th>1</th>\n",
       "      <td>Grumpier Old Men (1995)</td>\n",
       "      <td>1</td>\n",
       "      <td>3.259615</td>\n",
       "      <td>0.557808</td>\n",
       "      <td>0.051746</td>\n",
       "      <td>-0.452215</td>\n",
       "    </tr>\n",
       "    <tr>\n",
       "      <th>2</th>\n",
       "      <td>Heat (1995)</td>\n",
       "      <td>4</td>\n",
       "      <td>3.946078</td>\n",
       "      <td>-0.703586</td>\n",
       "      <td>-0.897363</td>\n",
       "      <td>0.458368</td>\n",
       "    </tr>\n",
       "    <tr>\n",
       "      <th>3</th>\n",
       "      <td>Seven (a.k.a. Se7en) (1995)</td>\n",
       "      <td>8</td>\n",
       "      <td>3.975369</td>\n",
       "      <td>-1.169874</td>\n",
       "      <td>-1.035678</td>\n",
       "      <td>0.297801</td>\n",
       "    </tr>\n",
       "    <tr>\n",
       "      <th>4</th>\n",
       "      <td>Usual Suspects, The (1995)</td>\n",
       "      <td>8</td>\n",
       "      <td>4.237745</td>\n",
       "      <td>-1.152744</td>\n",
       "      <td>-0.282037</td>\n",
       "      <td>0.808497</td>\n",
       "    </tr>\n",
       "    <tr>\n",
       "      <th>...</th>\n",
       "      <td>...</td>\n",
       "      <td>...</td>\n",
       "      <td>...</td>\n",
       "      <td>...</td>\n",
       "      <td>...</td>\n",
       "      <td>...</td>\n",
       "    </tr>\n",
       "    <tr>\n",
       "      <th>1230</th>\n",
       "      <td>Terms of Endearment (1983)</td>\n",
       "      <td>8</td>\n",
       "      <td>3.795455</td>\n",
       "      <td>-1.489270</td>\n",
       "      <td>-0.688834</td>\n",
       "      <td>2.103763</td>\n",
       "    </tr>\n",
       "    <tr>\n",
       "      <th>1231</th>\n",
       "      <td>Little Nicky (2000)</td>\n",
       "      <td>2</td>\n",
       "      <td>2.500000</td>\n",
       "      <td>-1.519806</td>\n",
       "      <td>-0.951772</td>\n",
       "      <td>-0.694550</td>\n",
       "    </tr>\n",
       "    <tr>\n",
       "      <th>1232</th>\n",
       "      <td>Joe Dirt (2001)</td>\n",
       "      <td>0</td>\n",
       "      <td>2.380952</td>\n",
       "      <td>-0.036224</td>\n",
       "      <td>0.967353</td>\n",
       "      <td>0.935782</td>\n",
       "    </tr>\n",
       "    <tr>\n",
       "      <th>1233</th>\n",
       "      <td>RoboCop 2 (1990)</td>\n",
       "      <td>7</td>\n",
       "      <td>2.640000</td>\n",
       "      <td>1.881685</td>\n",
       "      <td>-0.299642</td>\n",
       "      <td>-0.211729</td>\n",
       "    </tr>\n",
       "    <tr>\n",
       "      <th>1234</th>\n",
       "      <td>Poseidon Adventure, The (1972)</td>\n",
       "      <td>3</td>\n",
       "      <td>3.095238</td>\n",
       "      <td>1.358894</td>\n",
       "      <td>0.458795</td>\n",
       "      <td>1.415529</td>\n",
       "    </tr>\n",
       "  </tbody>\n",
       "</table>\n",
       "<p>1235 rows × 6 columns</p>\n",
       "</div>"
      ],
      "text/plain": [
       "                              movies  labels  mean_rating     pca_1     pca_2  \\\n",
       "0                   Toy Story (1995)       1     3.920930  0.649224  0.042402   \n",
       "1            Grumpier Old Men (1995)       1     3.259615  0.557808  0.051746   \n",
       "2                        Heat (1995)       4     3.946078 -0.703586 -0.897363   \n",
       "3        Seven (a.k.a. Se7en) (1995)       8     3.975369 -1.169874 -1.035678   \n",
       "4         Usual Suspects, The (1995)       8     4.237745 -1.152744 -0.282037   \n",
       "...                              ...     ...          ...       ...       ...   \n",
       "1230      Terms of Endearment (1983)       8     3.795455 -1.489270 -0.688834   \n",
       "1231             Little Nicky (2000)       2     2.500000 -1.519806 -0.951772   \n",
       "1232                 Joe Dirt (2001)       0     2.380952 -0.036224  0.967353   \n",
       "1233                RoboCop 2 (1990)       7     2.640000  1.881685 -0.299642   \n",
       "1234  Poseidon Adventure, The (1972)       3     3.095238  1.358894  0.458795   \n",
       "\n",
       "         pca_3  \n",
       "0    -0.597296  \n",
       "1    -0.452215  \n",
       "2     0.458368  \n",
       "3     0.297801  \n",
       "4     0.808497  \n",
       "...        ...  \n",
       "1230  2.103763  \n",
       "1231 -0.694550  \n",
       "1232  0.935782  \n",
       "1233 -0.211729  \n",
       "1234  1.415529  \n",
       "\n",
       "[1235 rows x 6 columns]"
      ]
     },
     "execution_count": 51,
     "metadata": {},
     "output_type": "execute_result"
    }
   ],
   "source": [
    "# Add pca-coordinates to dataframe for plotting\n",
    "df_clusters[['pca_1', 'pca_2', 'pca_3']] = Q_pca\n",
    "df_clusters"
   ]
  },
  {
   "cell_type": "code",
   "execution_count": 77,
   "id": "a50aab82",
   "metadata": {
    "code_folding": [],
    "scrolled": false
   },
   "outputs": [],
   "source": [
    "import plotly.graph_objects as go\n",
    "\n",
    "PLOT = go.Figure()\n",
    "\n",
    "# Plott items in a loop for every cluster\n",
    "for C in list(df_clusters['labels'].unique()):\n",
    "    \n",
    "    PLOT.add_trace(go.Scatter3d(x = df_clusters[df_clusters['labels'] == C]['pca_1'],\n",
    "                                y = df_clusters[df_clusters['labels'] == C]['pca_2'],\n",
    "                                z = df_clusters[df_clusters['labels'] == C]['pca_3'],\n",
    "                                hovertemplate='<b>%{text} </b><extra></extra>',\n",
    "                                text = [title for title in df_clusters[df_clusters['labels'] == C]['movies']],\n",
    "                                mode = 'markers', marker_size = 8, marker_line_width = 1, \n",
    "                                name = 'Cluster ' + str(C)))\n",
    "\n",
    "# Add formatting (e.g. labels for axes)\n",
    "PLOT.update_layout(width = 600, height = 600, autosize = True, showlegend = True,\n",
    "           scene = dict(xaxis=dict(title = 'pca_1', titlefont_color = 'black'),\n",
    "                        yaxis=dict(title = 'pca_2', titlefont_color = 'black'),\n",
    "                        zaxis=dict(title = 'pca_3', titlefont_color = 'black')),\n",
    "           font = dict(family = \"Gilroy\", color  = 'black', size = 12))"
   ]
  },
  {
   "cell_type": "markdown",
   "id": "2c25070d",
   "metadata": {},
   "source": [
    "# My sandbox (to be deleted)"
   ]
  },
  {
   "cell_type": "markdown",
   "id": "22a7b1d3",
   "metadata": {},
   "source": [
    "## DBSCAN"
   ]
  },
  {
   "cell_type": "code",
   "execution_count": 53,
   "id": "4c102983",
   "metadata": {},
   "outputs": [],
   "source": [
    "# WIP - does not work yet"
   ]
  },
  {
   "cell_type": "code",
   "execution_count": 54,
   "id": "bde92631",
   "metadata": {},
   "outputs": [],
   "source": [
    "from sklearn.cluster import DBSCAN"
   ]
  },
  {
   "cell_type": "code",
   "execution_count": 55,
   "id": "5c012bd4",
   "metadata": {},
   "outputs": [],
   "source": [
    "from sklearn.neighbors import NearestNeighbors\n",
    "nn = NearestNeighbors(n_neighbors=2)\n",
    "neighbors = nn.fit(Q_pca)\n",
    "distances, indices = neighbors.kneighbors(Q_pca)"
   ]
  },
  {
   "cell_type": "code",
   "execution_count": 56,
   "id": "e7a71343",
   "metadata": {},
   "outputs": [
    {
     "data": {
      "text/plain": [
       "array([[   0,    1],\n",
       "       [   1,    0],\n",
       "       [   2, 1068],\n",
       "       ...,\n",
       "       [1232,   12],\n",
       "       [1233,  380],\n",
       "       [1234,  436]])"
      ]
     },
     "execution_count": 56,
     "metadata": {},
     "output_type": "execute_result"
    }
   ],
   "source": [
    "indices"
   ]
  },
  {
   "cell_type": "code",
   "execution_count": 57,
   "id": "45a52f34",
   "metadata": {},
   "outputs": [],
   "source": [
    "distances = np.sort(distances, axis=0)[:,1]"
   ]
  },
  {
   "cell_type": "code",
   "execution_count": 58,
   "id": "a6f2fa7d",
   "metadata": {},
   "outputs": [
    {
     "data": {
      "text/plain": [
       "[<matplotlib.lines.Line2D at 0x13acfa0a0>]"
      ]
     },
     "execution_count": 58,
     "metadata": {},
     "output_type": "execute_result"
    },
    {
     "data": {
      "image/png": "[encoded data removed]",
      "text/plain": [
       "<Figure size 432x288 with 1 Axes>"
      ]
     },
     "metadata": {
      "needs_background": "light"
     },
     "output_type": "display_data"
    }
   ],
   "source": [
    "plt.plot(distances)"
   ]
  },
  {
   "cell_type": "code",
   "execution_count": 59,
   "id": "10d48386",
   "metadata": {},
   "outputs": [],
   "source": [
    "# Define the optimal eps based on above graph\n",
    "eps_opt = 0.4"
   ]
  },
  {
   "cell_type": "code",
   "execution_count": 60,
   "id": "3654d75f",
   "metadata": {},
   "outputs": [
    {
     "data": {
      "text/plain": [
       "0\n",
       "-1    1064\n",
       " 0      42\n",
       " 1      18\n",
       " 2      55\n",
       " 3      16\n",
       " 4      24\n",
       " 5      16\n",
       "Name: 0, dtype: int64"
      ]
     },
     "execution_count": 60,
     "metadata": {},
     "output_type": "execute_result"
    }
   ],
   "source": [
    "dbscan = DBSCAN(eps=eps_opt, min_samples=15)\n",
    "labels = dbscan.fit_predict(Q_pca)\n",
    "pd.DataFrame(labels).groupby(0)[0].count()"
   ]
  },
  {
   "cell_type": "markdown",
   "id": "0016163f",
   "metadata": {},
   "source": [
    "## Tests for deployment"
   ]
  },
  {
   "cell_type": "code",
   "execution_count": 61,
   "id": "97db508d",
   "metadata": {},
   "outputs": [],
   "source": [
    "movies_path = '~/Documents/spiced_projects/fenugreek-student-code/week10/data/ml-latest-small/movies.csv'\n",
    "ratings_path = '~/Documents/spiced_projects/fenugreek-student-code/week10/data/ml-latest-small/ratings.csv'"
   ]
  },
  {
   "cell_type": "code",
   "execution_count": 62,
   "id": "21d11370",
   "metadata": {},
   "outputs": [],
   "source": [
    "def load_data():\n",
    "    # Load the data\n",
    "    df_movies = pd.read_csv(movies_path)\n",
    "    df_ratings = pd.read_csv(ratings_path)\n",
    "    \n",
    "    # Merge dataframes\n",
    "    df_full = pd.merge(left=df_ratings, right=df_movies, how='left', on='movieId')\n",
    "\n",
    "    # Filter out movies with count below 20\n",
    "    mask = pd.merge(df_full, pd.DataFrame(df_full.groupby('movieId')['userId'].count()>20), \n",
    "                how='left', on='movieId').iloc[:,-1]\n",
    "    df = df_full[mask]\n",
    "\n",
    "    # Return dataframe\n",
    "    return df"
   ]
  },
  {
   "cell_type": "code",
   "execution_count": 63,
   "id": "fb8c4f16",
   "metadata": {},
   "outputs": [],
   "source": [
    "def create_dicts(df):\n",
    "    \"\"\"\n",
    "    Create dictionary to enable conversion between movieIds and titles. Needs\n",
    "    a dataframe with movieId and title columns as input (should be exhaustive).\n",
    "    \"\"\"\n",
    "    # Create dictionary movieId -> title\n",
    "    movieId_dict = {}\n",
    "    for idx, movieId, title in df[['movieId', 'title']].itertuples():\n",
    "        movieId_dict[movieId] = title\n",
    "\n",
    "    # Create dictionary title -> movieId\n",
    "    title_dict = {value:key for key, value in movieId_dict.items()}\n",
    "        \n",
    "    return movieId_dict, title_dict"
   ]
  },
  {
   "cell_type": "code",
   "execution_count": 64,
   "id": "fa753347",
   "metadata": {},
   "outputs": [],
   "source": [
    "def nmf_recommender(movie_ratings=None):\n",
    "    \"\"\"\n",
    "    Recommender based on negative matrix factorization \n",
    "    (utilizing the surprise package)\n",
    "    \"\"\"\n",
    "    # load data\n",
    "    df = load_data()\n",
    "    \n",
    "    # load dictionaries\n",
    "    movieId_dict, title_dict = create_dicts(df)\n",
    "\n",
    "    # Convert movie ratings into movie IDs\n",
    "    if movie_ratings == None:\n",
    "        movie_ratings = {\n",
    "        'Toy Story (1995)' : 4,\n",
    "        'From Dusk Till Dawn (1996)' : 3,\n",
    "        'Pulp Fiction (1994)' : 5,\n",
    "        'Some Like It Hot (1959)' : 2,\n",
    "        'Lawrence of Arabia (1962)' : 3,\n",
    "        'Good, the Bad and the Ugly, The (Buono, il brutto, il cattivo, Il) (1966)' : 4,\n",
    "        'Roman Holiday (1953)' : 3,\n",
    "        'Wallace & Gromit: The Best of Aardman Animation (1996)' : 1\n",
    "    }\n",
    "    movie_ratings = {title_dict[title]:rating for title, rating in movie_ratings.items()}\n",
    "\n",
    "    # Create dataframe for new user\n",
    "    df_new_usr = pd.DataFrame.from_dict(movie_ratings, orient='index')\n",
    "    df_new_usr['userId']='new_user'\n",
    "    df_new_usr = df_new_usr.reset_index().rename(columns={'index':'movieId', 0:'rating'})\n",
    "    df_new_usr = df_new_usr[['userId', 'movieId', 'rating']]\n",
    "\n",
    "    # Concat dataframes (i.e. create one single / new dataset)\n",
    "    df_nmf = df[['userId', 'movieId', 'rating']]\n",
    "    df_nmf = pd.concat([df_nmf, df_new_usr], ignore_index=True)\n",
    "    \n",
    "    # Load the data\n",
    "    reader = Reader(rating_scale=(0, 5)) # Define the scale of the ratings\n",
    "    data = Dataset.load_from_df(df_nmf, reader)\n",
    "    \n",
    "    # Define the whole dataset as trainset\n",
    "    trainset = data.build_full_trainset() \n",
    "\n",
    "    # Create the model, n_features and n_epochs optimized via grid search\n",
    "    n_factors = 5 \n",
    "    n_epochs = 200\n",
    "    model = NMF(n_factors=n_factors, n_epochs=n_epochs) \n",
    "\n",
    "    # Fit the model\n",
    "    model.fit(trainset)\n",
    "\n",
    "    # Generate test_data\n",
    "    data_all_users = trainset.build_anti_testset()\n",
    "    test_data = [set for set in data_all_users if set[0] == 'new_user']\n",
    "        \n",
    "    # Get predictions on test dataset\n",
    "    test_results = model.test(test_data)\n",
    "\n",
    "    # Save results in a dataframe\n",
    "    df_test_results = pd.DataFrame(np.array(test_results)[:,(1,3)], columns=['movieId', 'prediction'])\n",
    "    df_test_results['userId'] = 'new_user'\n",
    "    df_test_results = df_test_results[['userId', 'movieId', 'prediction']]\n",
    "    df_test_results\n",
    "\n",
    "    # Generate final result\n",
    "    df_test_results['title'] = df_test_results['movieId'].apply(lambda x: movieId_dict[x])\n",
    "    top5 = list(df_test_results.sort_values('prediction')['title'].head(5))\n",
    "\n",
    "    return top5"
   ]
  },
  {
   "cell_type": "code",
   "execution_count": 65,
   "id": "3cdc78e3",
   "metadata": {},
   "outputs": [
    {
     "data": {
      "text/plain": [
       "['Anaconda (1997)',\n",
       " 'Richie Rich (1994)',\n",
       " \"Charlie's Angels: Full Throttle (2003)\",\n",
       " 'Specialist, The (1994)',\n",
       " 'Bring It On (2000)']"
      ]
     },
     "execution_count": 65,
     "metadata": {},
     "output_type": "execute_result"
    }
   ],
   "source": [
    "nmf_recommender()"
   ]
  },
  {
   "cell_type": "code",
   "execution_count": 66,
   "id": "53eb8889",
   "metadata": {},
   "outputs": [],
   "source": [
    "# Idea use dictionary to save results and create histogram?"
   ]
  }
 ],
 "metadata": {
  "kernelspec": {
   "display_name": "Python (surprise)",
   "language": "python",
   "name": "conda-env-surprise-py"
  },
  "language_info": {
   "codemirror_mode": {
    "name": "ipython",
    "version": 3
   },
   "file_extension": ".py",
   "mimetype": "text/x-python",
   "name": "python",
   "nbconvert_exporter": "python",
   "pygments_lexer": "ipython3",
   "version": "3.9.12"
  },
  "toc": {
   "base_numbering": 1,
   "nav_menu": {},
   "number_sections": true,
   "sideBar": true,
   "skip_h1_title": false,
   "title_cell": "Table of Contents",
   "title_sidebar": "Contents",
   "toc_cell": false,
   "toc_position": {},
   "toc_section_display": true,
   "toc_window_display": true
  }
 },
 "nbformat": 4,
 "nbformat_minor": 5
}
